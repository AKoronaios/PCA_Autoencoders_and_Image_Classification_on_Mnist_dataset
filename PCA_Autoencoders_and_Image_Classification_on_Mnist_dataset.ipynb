{
  "nbformat": 4,
  "nbformat_minor": 0,
  "metadata": {
    "colab": {
      "provenance": []
    },
    "kernelspec": {
      "name": "python3",
      "display_name": "Python 3"
    },
    "language_info": {
      "name": "python"
    }
  },
  "cells": [
    {
      "cell_type": "markdown",
      "source": [
        "The following code is created to test and compare the performance of PCA and autoencoder neural network in image compression and decompession with the minimal lost of information. The dataset used was Mnist."
      ],
      "metadata": {
        "id": "LpOS9ad_SzF3"
      }
    },
    {
      "cell_type": "markdown",
      "source": [
        "First of all a sequential neural network was created and trained. This neural network will work as a judge in this project, which nothing more than a image classifier with high accuracy is was distinguishes it. The highest  the judge's results on the decompessed data the better the method used."
      ],
      "metadata": {
        "id": "9sj0Fzez1UNG"
      }
    },
    {
      "cell_type": "code",
      "execution_count": null,
      "metadata": {
        "id": "r8PSZnlAkjTE"
      },
      "outputs": [],
      "source": [
        "import keras\n",
        "import numpy as np\n",
        "import matplotlib.pyplot as plt\n",
        "from keras.datasets import mnist\n",
        "from keras.callbacks import TensorBoard"
      ]
    },
    {
      "cell_type": "code",
      "source": [
        "(x_train,y_train),(x_test,y_test) = mnist.load_data()"
      ],
      "metadata": {
        "id": "PNVxq0_36SpY",
        "colab": {
          "base_uri": "https://localhost:8080/"
        },
        "outputId": "93efbb20-4e3c-4cae-b7b4-9392f8ba411f"
      },
      "execution_count": null,
      "outputs": [
        {
          "output_type": "stream",
          "name": "stdout",
          "text": [
            "Downloading data from https://storage.googleapis.com/tensorflow/tf-keras-datasets/mnist.npz\n",
            "11493376/11490434 [==============================] - 0s 0us/step\n",
            "11501568/11490434 [==============================] - 0s 0us/step\n"
          ]
        }
      ]
    },
    {
      "cell_type": "code",
      "source": [
        "x_train = x_train.reshape((-1,28*28))/255.0\n",
        "x_test = x_test.reshape((-1,28*28))/255.0"
      ],
      "metadata": {
        "id": "uXWv5Z2KyL3J"
      },
      "execution_count": null,
      "outputs": []
    },
    {
      "cell_type": "code",
      "source": [
        "y_train = keras.utils.np_utils.to_categorical(y_train,num_classes=10)\n",
        "y_test = keras.utils.np_utils.to_categorical(y_test,num_classes=10)"
      ],
      "metadata": {
        "id": "l_1_JLb96g6h"
      },
      "execution_count": null,
      "outputs": []
    },
    {
      "cell_type": "code",
      "source": [
        "from keras.models import sequential\n",
        "from keras.layers import Dense\n",
        "from tensorflow.keras.optimizers import SGD, Adam"
      ],
      "metadata": {
        "id": "cRdaxHXl6z5H"
      },
      "execution_count": null,
      "outputs": []
    },
    {
      "cell_type": "code",
      "source": [
        "judge = keras.Sequential()\n",
        "judge.add(Dense(64,activation='relu',input_dim=784))\n",
        "judge.add(Dense(64,activation='relu'))\n",
        "judge.add(Dense(128,activation='relu'))\n",
        "judge.add(Dense(64,activation='relu'))\n",
        "judge.add(Dense(32,activation='relu'))\n",
        "judge.add(Dense(10,activation='softmax'))"
      ],
      "metadata": {
        "id": "hqJATuwq7bah"
      },
      "execution_count": null,
      "outputs": []
    },
    {
      "cell_type": "code",
      "source": [
        "Optimizer = Adam(learning_rate=0.001)\n",
        "judge.compile(loss ='categorical_crossentropy',\n",
        "              optimizer = Optimizer,\n",
        "              metrics = ['accuracy'])"
      ],
      "metadata": {
        "id": "rHtXJZKI8KNZ"
      },
      "execution_count": null,
      "outputs": []
    },
    {
      "cell_type": "code",
      "source": [
        "judge.fit(x_train,y_train,epochs=20,batch_size=32,verbose=1)\n",
        "print(\"train accuracy:\" ,judge.evaluate(x_train,y_train,batch_size=128))\n",
        "print(\"test accuracy:\" ,judge.evaluate(x_test,y_test,batch_size=128))"
      ],
      "metadata": {
        "colab": {
          "base_uri": "https://localhost:8080/"
        },
        "id": "G34WBDao8pUo",
        "outputId": "43132f4c-2ddd-492a-d73a-596dd354afdf"
      },
      "execution_count": null,
      "outputs": [
        {
          "output_type": "stream",
          "name": "stdout",
          "text": [
            "Epoch 1/20\n",
            "1875/1875 [==============================] - 7s 3ms/step - loss: 0.2905 - accuracy: 0.9115\n",
            "Epoch 2/20\n",
            "1875/1875 [==============================] - 4s 2ms/step - loss: 0.1264 - accuracy: 0.9614\n",
            "Epoch 3/20\n",
            "1875/1875 [==============================] - 4s 2ms/step - loss: 0.0974 - accuracy: 0.9705\n",
            "Epoch 4/20\n",
            "1875/1875 [==============================] - 4s 2ms/step - loss: 0.0820 - accuracy: 0.9748\n",
            "Epoch 5/20\n",
            "1875/1875 [==============================] - 4s 2ms/step - loss: 0.0698 - accuracy: 0.9783\n",
            "Epoch 6/20\n",
            "1875/1875 [==============================] - 4s 2ms/step - loss: 0.0577 - accuracy: 0.9816\n",
            "Epoch 7/20\n",
            "1875/1875 [==============================] - 4s 2ms/step - loss: 0.0534 - accuracy: 0.9834\n",
            "Epoch 8/20\n",
            "1875/1875 [==============================] - 4s 2ms/step - loss: 0.0455 - accuracy: 0.9857\n",
            "Epoch 9/20\n",
            "1875/1875 [==============================] - 4s 2ms/step - loss: 0.0416 - accuracy: 0.9867\n",
            "Epoch 10/20\n",
            "1875/1875 [==============================] - 4s 2ms/step - loss: 0.0400 - accuracy: 0.9878\n",
            "Epoch 11/20\n",
            "1875/1875 [==============================] - 4s 2ms/step - loss: 0.0358 - accuracy: 0.9893\n",
            "Epoch 12/20\n",
            "1875/1875 [==============================] - 4s 2ms/step - loss: 0.0313 - accuracy: 0.9900\n",
            "Epoch 13/20\n",
            "1875/1875 [==============================] - 4s 2ms/step - loss: 0.0301 - accuracy: 0.9908\n",
            "Epoch 14/20\n",
            "1875/1875 [==============================] - 4s 2ms/step - loss: 0.0278 - accuracy: 0.9915\n",
            "Epoch 15/20\n",
            "1875/1875 [==============================] - 4s 2ms/step - loss: 0.0247 - accuracy: 0.9921\n",
            "Epoch 16/20\n",
            "1875/1875 [==============================] - 4s 2ms/step - loss: 0.0233 - accuracy: 0.9928\n",
            "Epoch 17/20\n",
            "1875/1875 [==============================] - 4s 2ms/step - loss: 0.0232 - accuracy: 0.9926\n",
            "Epoch 18/20\n",
            "1875/1875 [==============================] - 4s 2ms/step - loss: 0.0230 - accuracy: 0.9929\n",
            "Epoch 19/20\n",
            "1875/1875 [==============================] - 4s 2ms/step - loss: 0.0226 - accuracy: 0.9928\n",
            "Epoch 20/20\n",
            "1875/1875 [==============================] - 4s 2ms/step - loss: 0.0202 - accuracy: 0.9936\n",
            "469/469 [==============================] - 1s 2ms/step - loss: 0.0119 - accuracy: 0.9962\n",
            "train accuracy: [0.011916527524590492, 0.996150016784668]\n",
            "79/79 [==============================] - 0s 2ms/step - loss: 0.0960 - accuracy: 0.9760\n",
            "test accuracy: [0.09601753205060959, 0.9760000109672546]\n"
          ]
        }
      ]
    },
    {
      "cell_type": "markdown",
      "source": [
        "the judge as test & train accuracy > 99%"
      ],
      "metadata": {
        "id": "gSVA-GeR2L6A"
      }
    },
    {
      "cell_type": "markdown",
      "source": [
        "Now the first autoencoder is created, which compress the image from 784 (28*28) dimensions to 32."
      ],
      "metadata": {
        "id": "z97PIHqkUspK"
      }
    },
    {
      "cell_type": "code",
      "source": [
        "from keras import layers\n",
        "input_img = keras.Input(shape=(784,))\n",
        "encoded = layers.Dense(128, activation='relu')(input_img)\n",
        "encoded = layers.Dense(64, activation='relu')(encoded)\n",
        "encoded = layers.Dense(32, activation='relu')(encoded)\n",
        "\n",
        "decoded = layers.Dense(64, activation='relu')(encoded)\n",
        "decoded = layers.Dense(128, activation='relu')(decoded)\n",
        "decoded = layers.Dense(784, activation='sigmoid')(decoded)\n",
        "\n",
        "autoencoder = keras.Model(input_img, decoded)\n",
        "autoencoder.compile(optimizer='adam', loss='binary_crossentropy')\n",
        "\n",
        "autoencoder.fit(x_train, x_train,\n",
        "                epochs=20,\n",
        "                batch_size=256,\n",
        "                shuffle=True,\n",
        "                validation_data=(x_test, x_test))"
      ],
      "metadata": {
        "colab": {
          "base_uri": "https://localhost:8080/"
        },
        "id": "By5GgX6SdUu8",
        "outputId": "bdbf9622-7776-4c83-b652-0b766ba2b6ed"
      },
      "execution_count": null,
      "outputs": [
        {
          "output_type": "stream",
          "name": "stdout",
          "text": [
            "Epoch 1/20\n",
            "235/235 [==============================] - 5s 17ms/step - loss: 0.2493 - val_loss: 0.1702\n",
            "Epoch 2/20\n",
            "235/235 [==============================] - 4s 17ms/step - loss: 0.1523 - val_loss: 0.1351\n",
            "Epoch 3/20\n",
            "235/235 [==============================] - 4s 18ms/step - loss: 0.1308 - val_loss: 0.1244\n",
            "Epoch 4/20\n",
            "235/235 [==============================] - 4s 18ms/step - loss: 0.1226 - val_loss: 0.1181\n",
            "Epoch 5/20\n",
            "235/235 [==============================] - 4s 18ms/step - loss: 0.1166 - val_loss: 0.1124\n",
            "Epoch 6/20\n",
            "235/235 [==============================] - 4s 18ms/step - loss: 0.1118 - val_loss: 0.1093\n",
            "Epoch 7/20\n",
            "235/235 [==============================] - 4s 18ms/step - loss: 0.1086 - val_loss: 0.1058\n",
            "Epoch 8/20\n",
            "235/235 [==============================] - 4s 18ms/step - loss: 0.1060 - val_loss: 0.1040\n",
            "Epoch 9/20\n",
            "235/235 [==============================] - 4s 18ms/step - loss: 0.1039 - val_loss: 0.1018\n",
            "Epoch 10/20\n",
            "235/235 [==============================] - 4s 18ms/step - loss: 0.1021 - val_loss: 0.1003\n",
            "Epoch 11/20\n",
            "235/235 [==============================] - 4s 18ms/step - loss: 0.1006 - val_loss: 0.0989\n",
            "Epoch 12/20\n",
            "235/235 [==============================] - 4s 18ms/step - loss: 0.0992 - val_loss: 0.0974\n",
            "Epoch 13/20\n",
            "235/235 [==============================] - 4s 18ms/step - loss: 0.0980 - val_loss: 0.0962\n",
            "Epoch 14/20\n",
            "235/235 [==============================] - 4s 18ms/step - loss: 0.0970 - val_loss: 0.0962\n",
            "Epoch 15/20\n",
            "235/235 [==============================] - 4s 18ms/step - loss: 0.0962 - val_loss: 0.0950\n",
            "Epoch 16/20\n",
            "235/235 [==============================] - 4s 18ms/step - loss: 0.0954 - val_loss: 0.0942\n",
            "Epoch 17/20\n",
            "235/235 [==============================] - 4s 17ms/step - loss: 0.0947 - val_loss: 0.0937\n",
            "Epoch 18/20\n",
            "235/235 [==============================] - 4s 18ms/step - loss: 0.0940 - val_loss: 0.0931\n",
            "Epoch 19/20\n",
            "235/235 [==============================] - 4s 17ms/step - loss: 0.0934 - val_loss: 0.0927\n",
            "Epoch 20/20\n",
            "235/235 [==============================] - 4s 17ms/step - loss: 0.0928 - val_loss: 0.0918\n"
          ]
        },
        {
          "output_type": "execute_result",
          "data": {
            "text/plain": [
              "<keras.callbacks.History at 0x7fdaeecc2e10>"
            ]
          },
          "metadata": {},
          "execution_count": 74
        }
      ]
    },
    {
      "cell_type": "code",
      "source": [
        "decoded_imgs = autoencoder.predict(x_test)"
      ],
      "metadata": {
        "id": "UN3eRsYgelkQ"
      },
      "execution_count": null,
      "outputs": []
    },
    {
      "cell_type": "code",
      "source": [
        "import matplotlib.pyplot as plt\n",
        "\n",
        "n = 10  # How many digits we will display\n",
        "plt.figure(figsize=(20, 4))\n",
        "for i in range(n):\n",
        "    # Display original\n",
        "    ax = plt.subplot(2, n, i + 1)\n",
        "    plt.imshow(x_test[i].reshape(28, 28))\n",
        "    plt.gray()\n",
        "    ax.get_xaxis().set_visible(False)\n",
        "    ax.get_yaxis().set_visible(False)\n",
        "\n",
        "    # Display reconstruction\n",
        "    ax = plt.subplot(2, n, i + 1 + n)\n",
        "    plt.imshow(decoded_imgs[i].reshape(28, 28))\n",
        "    plt.gray()\n",
        "    ax.get_xaxis().set_visible(False)\n",
        "    ax.get_yaxis().set_visible(False)\n",
        "plt.show()"
      ],
      "metadata": {
        "colab": {
          "base_uri": "https://localhost:8080/",
          "height": 248
        },
        "id": "eV4DXbEseRLr",
        "outputId": "fa93a614-0e10-4049-dcb4-13efc9ed2f54"
      },
      "execution_count": null,
      "outputs": [
        {
          "output_type": "display_data",
          "data": {
            "image/png": "[encoded data removed]",
            "text/plain": [
              "<Figure size 1440x288 with 20 Axes>"
            ]
          },
          "metadata": {
            "needs_background": "light"
          }
        }
      ]
    },
    {
      "cell_type": "code",
      "source": [
        "print(\"autoencoder accuracy:\" ,judge.evaluate(decoded_imgs,y_test,batch_size=128))"
      ],
      "metadata": {
        "colab": {
          "base_uri": "https://localhost:8080/"
        },
        "id": "lAnXX3LCe5JX",
        "outputId": "8656a280-c73a-4963-c8c7-3c5ff6122190"
      },
      "execution_count": null,
      "outputs": [
        {
          "output_type": "stream",
          "name": "stdout",
          "text": [
            "79/79 [==============================] - 0s 2ms/step - loss: 0.1701 - accuracy: 0.9632\n",
            "autoencoder accuracy: [0.1700972318649292, 0.9631999731063843]\n"
          ]
        }
      ]
    },
    {
      "cell_type": "markdown",
      "source": [
        "Now using PCA to compress the same images down to 32 dimensions"
      ],
      "metadata": {
        "id": "vRLSxEfyf4-3"
      }
    },
    {
      "cell_type": "code",
      "source": [
        "from sklearn.decomposition import PCA\n",
        "pca_32 = PCA(32)\n",
        "pca_32.fit(x_train)\n",
        "\n",
        "train_32 = pca_32.transform(x_train)\n",
        "test_32 = pca_32.transform(x_test)\n",
        "\n",
        "approximation = pca_32.inverse_transform(test_32)"
      ],
      "metadata": {
        "id": "jGHyW_eofua6"
      },
      "execution_count": null,
      "outputs": []
    },
    {
      "cell_type": "code",
      "source": [
        "n = 10  # How many digits we will display\n",
        "plt.figure(figsize=(20, 4))\n",
        "for i in range(n):\n",
        "    # Display original\n",
        "    ax = plt.subplot(2, n, i + 1)\n",
        "    plt.imshow(x_test[i].reshape(28, 28))\n",
        "    plt.gray()\n",
        "    ax.get_xaxis().set_visible(False)\n",
        "    ax.get_yaxis().set_visible(False)\n",
        "\n",
        "    # Display reconstruction\n",
        "    ax = plt.subplot(2, n, i + 1 + n)\n",
        "    plt.imshow(np.abs(approximation[i]).reshape(28, 28))\n",
        "    plt.gray()\n",
        "    ax.get_xaxis().set_visible(False)\n",
        "    ax.get_yaxis().set_visible(False)\n",
        "plt.show()"
      ],
      "metadata": {
        "colab": {
          "base_uri": "https://localhost:8080/",
          "height": 248
        },
        "id": "UeLYISxWv01D",
        "outputId": "1a8c2e9c-ab9b-476b-9106-2bd52583ec51"
      },
      "execution_count": null,
      "outputs": [
        {
          "output_type": "display_data",
          "data": {
            "image/png": "[encoded data removed]",
            "text/plain": [
              "<Figure size 1440x288 with 20 Axes>"
            ]
          },
          "metadata": {
            "needs_background": "light"
          }
        }
      ]
    },
    {
      "cell_type": "code",
      "source": [
        "print(\"pca autoencoder accuracy:\" ,judge.evaluate(approximation.reshape((-1,28*28))/255.0,y_test,batch_size=128))"
      ],
      "metadata": {
        "colab": {
          "base_uri": "https://localhost:8080/"
        },
        "id": "sfsCs8Z40N43",
        "outputId": "a032dafc-2dd8-45f9-93c4-e043cce19c81"
      },
      "execution_count": null,
      "outputs": [
        {
          "output_type": "stream",
          "name": "stdout",
          "text": [
            "79/79 [==============================] - 0s 2ms/step - loss: 3.0615 - accuracy: 0.0892\n",
            "pca autoencoder accuracy: [3.061532497406006, 0.08919999748468399]\n"
          ]
        }
      ]
    },
    {
      "cell_type": "markdown",
      "source": [
        "Creating new autoencoders for greater compression down to 8 dimensions."
      ],
      "metadata": {
        "id": "Nqjzqf8eDYQ5"
      }
    },
    {
      "cell_type": "code",
      "source": [
        "encoded_2 = layers.Dense(128, activation='relu')(input_img)\n",
        "encoded_2 = layers.Dense(64, activation='relu')(encoded_2)\n",
        "encoded_2 = layers.Dense(32, activation='relu')(encoded_2)\n",
        "encoded_2 = layers.Dense(16, activation='relu')(encoded_2)\n",
        "encoded_2 = layers.Dense(8,activation='relu')(encoded_2)\n",
        "\n",
        "decoded_2 = layers.Dense(16, activation='relu')(encoded_2)\n",
        "decoded_2 = layers.Dense(32, activation='relu')(decoded_2)\n",
        "decoded_2 = layers.Dense(64, activation='relu')(decoded_2)\n",
        "decoded_2 = layers.Dense(128, activation='relu')(decoded_2)\n",
        "decoded_2 = layers.Dense(784, activation='sigmoid')(decoded_2)\n",
        "\n",
        "autoencoder_2 = keras.Model(input_img, decoded_2)\n",
        "autoencoder_2.compile(optimizer='adam', loss='binary_crossentropy')\n",
        "\n",
        "autoencoder_2.fit(x_train, x_train,\n",
        "                epochs=20,\n",
        "                batch_size=256,\n",
        "                shuffle=True,\n",
        "                validation_data=(x_test, x_test))"
      ],
      "metadata": {
        "colab": {
          "base_uri": "https://localhost:8080/"
        },
        "id": "WwLMIAdmDX3q",
        "outputId": "ba056670-1d46-484b-b747-efec198ed01d"
      },
      "execution_count": null,
      "outputs": [
        {
          "output_type": "stream",
          "name": "stdout",
          "text": [
            "Epoch 1/20\n",
            "235/235 [==============================] - 5s 17ms/step - loss: 0.2826 - val_loss: 0.2217\n",
            "Epoch 2/20\n",
            "235/235 [==============================] - 5s 22ms/step - loss: 0.2092 - val_loss: 0.1962\n",
            "Epoch 3/20\n",
            "235/235 [==============================] - 5s 23ms/step - loss: 0.1883 - val_loss: 0.1798\n",
            "Epoch 4/20\n",
            "235/235 [==============================] - 4s 17ms/step - loss: 0.1761 - val_loss: 0.1719\n",
            "Epoch 5/20\n",
            "235/235 [==============================] - 4s 17ms/step - loss: 0.1693 - val_loss: 0.1657\n",
            "Epoch 6/20\n",
            "235/235 [==============================] - 4s 17ms/step - loss: 0.1629 - val_loss: 0.1588\n",
            "Epoch 7/20\n",
            "235/235 [==============================] - 4s 17ms/step - loss: 0.1579 - val_loss: 0.1553\n",
            "Epoch 8/20\n",
            "235/235 [==============================] - 4s 17ms/step - loss: 0.1550 - val_loss: 0.1532\n",
            "Epoch 9/20\n",
            "235/235 [==============================] - 4s 17ms/step - loss: 0.1530 - val_loss: 0.1518\n",
            "Epoch 10/20\n",
            "235/235 [==============================] - 4s 17ms/step - loss: 0.1514 - val_loss: 0.1504\n",
            "Epoch 11/20\n",
            "235/235 [==============================] - 4s 17ms/step - loss: 0.1501 - val_loss: 0.1490\n",
            "Epoch 12/20\n",
            "235/235 [==============================] - 4s 17ms/step - loss: 0.1490 - val_loss: 0.1487\n",
            "Epoch 13/20\n",
            "235/235 [==============================] - 4s 17ms/step - loss: 0.1481 - val_loss: 0.1476\n",
            "Epoch 14/20\n",
            "235/235 [==============================] - 4s 17ms/step - loss: 0.1473 - val_loss: 0.1470\n",
            "Epoch 15/20\n",
            "235/235 [==============================] - 4s 17ms/step - loss: 0.1466 - val_loss: 0.1464\n",
            "Epoch 16/20\n",
            "235/235 [==============================] - 4s 17ms/step - loss: 0.1460 - val_loss: 0.1456\n",
            "Epoch 17/20\n",
            "235/235 [==============================] - 4s 17ms/step - loss: 0.1454 - val_loss: 0.1453\n",
            "Epoch 18/20\n",
            "235/235 [==============================] - 4s 17ms/step - loss: 0.1449 - val_loss: 0.1451\n",
            "Epoch 19/20\n",
            "235/235 [==============================] - 4s 17ms/step - loss: 0.1444 - val_loss: 0.1444\n",
            "Epoch 20/20\n",
            "235/235 [==============================] - 4s 17ms/step - loss: 0.1439 - val_loss: 0.1443\n"
          ]
        },
        {
          "output_type": "execute_result",
          "data": {
            "text/plain": [
              "<keras.callbacks.History at 0x7fdaeaabdc10>"
            ]
          },
          "metadata": {},
          "execution_count": 81
        }
      ]
    },
    {
      "cell_type": "code",
      "source": [
        "decoded_imgs_2 = autoencoder_2.predict(x_test)"
      ],
      "metadata": {
        "id": "PuYCcqFHFrxi"
      },
      "execution_count": null,
      "outputs": []
    },
    {
      "cell_type": "code",
      "source": [
        "n = 10  # How many digits we will display\n",
        "plt.figure(figsize=(20, 4))\n",
        "for i in range(n):\n",
        "    # Display original\n",
        "    ax = plt.subplot(2, n, i + 1)\n",
        "    plt.imshow(x_test[i].reshape(28, 28))\n",
        "    plt.gray()\n",
        "    ax.get_xaxis().set_visible(False)\n",
        "    ax.get_yaxis().set_visible(False)\n",
        "\n",
        "    # Display reconstruction\n",
        "    ax = plt.subplot(2, n, i + 1 + n)\n",
        "    plt.imshow(decoded_imgs_2[i].reshape(28, 28))\n",
        "    plt.gray()\n",
        "    ax.get_xaxis().set_visible(False)\n",
        "    ax.get_yaxis().set_visible(False)\n",
        "plt.show()"
      ],
      "metadata": {
        "colab": {
          "base_uri": "https://localhost:8080/",
          "height": 248
        },
        "id": "_qKc6HDbFks9",
        "outputId": "5f0444a1-8139-4abf-f85b-2553cf876f6e"
      },
      "execution_count": null,
      "outputs": [
        {
          "output_type": "display_data",
          "data": {
            "image/png": "[encoded data removed]",
            "text/plain": [
              "<Figure size 1440x288 with 20 Axes>"
            ]
          },
          "metadata": {
            "needs_background": "light"
          }
        }
      ]
    },
    {
      "cell_type": "code",
      "source": [
        "from sklearn.decomposition import PCA\n",
        "pca_8 = PCA(8)\n",
        "pca_8.fit(x_train)\n",
        "\n",
        "train_8 = pca_8.transform(x_train)\n",
        "test_8 = pca_8.transform(x_test)\n",
        "\n",
        "approximation_8 = pca_8.inverse_transform(test_8)"
      ],
      "metadata": {
        "id": "ft-FW9duGo5N"
      },
      "execution_count": null,
      "outputs": []
    },
    {
      "cell_type": "code",
      "source": [
        "n = 10  # How many digits we will display\n",
        "plt.figure(figsize=(20, 4))\n",
        "for i in range(n):\n",
        "    # Display original\n",
        "    ax = plt.subplot(2, n, i + 1)\n",
        "    plt.imshow(x_test[i].reshape(28, 28))\n",
        "    plt.gray()\n",
        "    ax.get_xaxis().set_visible(False)\n",
        "    ax.get_yaxis().set_visible(False)\n",
        "\n",
        "    # Display reconstruction\n",
        "    ax = plt.subplot(2, n, i + 1 + n)\n",
        "    plt.imshow(np.abs(approximation_8[i]).reshape(28, 28))\n",
        "    plt.gray()\n",
        "    ax.get_xaxis().set_visible(False)\n",
        "    ax.get_yaxis().set_visible(False)\n",
        "plt.show()"
      ],
      "metadata": {
        "colab": {
          "base_uri": "https://localhost:8080/",
          "height": 248
        },
        "id": "zw0KBB3CHYXQ",
        "outputId": "62c6118d-fe9a-4769-9374-828b24227919"
      },
      "execution_count": null,
      "outputs": [
        {
          "output_type": "display_data",
          "data": {
            "image/png": "[encoded data removed]",
            "text/plain": [
              "<Figure size 1440x288 with 20 Axes>"
            ]
          },
          "metadata": {
            "needs_background": "light"
          }
        }
      ]
    },
    {
      "cell_type": "code",
      "source": [
        "print(\"2nd_pca autoencoder accuracy:\" ,judge.evaluate(approximation_8.reshape((-1,28*28))/255.0,y_test,batch_size=128))\n",
        "print(\"autoencoder accuracy:\" ,judge.evaluate(decoded_imgs_2,y_test,batch_size=128))"
      ],
      "metadata": {
        "colab": {
          "base_uri": "https://localhost:8080/"
        },
        "id": "ufzHfPL4H1kN",
        "outputId": "c64b4bce-a04c-4626-a421-46e26ff8876f"
      },
      "execution_count": null,
      "outputs": [
        {
          "output_type": "stream",
          "name": "stdout",
          "text": [
            "79/79 [==============================] - 0s 2ms/step - loss: 3.0754 - accuracy: 0.0892\n",
            "2nd_pca autoencoder accuracy: [3.075423002243042, 0.08919999748468399]\n",
            "79/79 [==============================] - 0s 2ms/step - loss: 0.9616 - accuracy: 0.8541\n",
            "autoencoder accuracy: [0.9616281390190125, 0.8540999889373779]\n"
          ]
        }
      ]
    },
    {
      "cell_type": "markdown",
      "source": [
        "A we can see from both the accuracy of the judge but also from the images generated autoencoders as far better method for compression and decompession than PCA. In addition, we can conclude that the greater the compression the more information is lost, so there is a trade-off between compression and information."
      ],
      "metadata": {
        "id": "rHDXAJXXWdjF"
      }
    }
  ]
}